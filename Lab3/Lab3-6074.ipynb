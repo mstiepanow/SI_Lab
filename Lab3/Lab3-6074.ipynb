# Zadanie 1
# Wybierz inną cechę i spróbuj przewidzieć ceny mieszkań.

from sklearn.datasets import load_boston
import matplotlib.pyplot as plt
%matplotlib inline
import pandas as pd
import numpy as np
import seaborn as sns
from sklearn.model_selection import train_test_split
from sklearn.metrics import r2_score
from sklearn.linear_model import LinearRegression
from sklearn.model_selection import cross_val_score

# Wczytanie zbioru cech nieruchomości i ich cen
boston_nieruchomosci = load_boston()

print('Klucze dostępne w zbiorze danych: ', boston_nieruchomosci.keys())
print(boston_nieruchomosci.DESCR)

# Konwersja na obiekt pandas.DataFrame
boston_df = pd.DataFrame(boston_nieruchomosci['data'], columns=boston_nieruchomosci['feature_names'])

# Dodanie informacji o cenie do DataFrame
boston_df['target'] = np.array(list(boston_nieruchomosci['target']))

# Przewidywanie wg cechy procentowej populacji (LSTAT)
lstat_perc = boston_nieruchomosci['data'][:, np.newaxis, 12]
plt.scatter(lstat_perc, boston_nieruchomosci['target'])
plt.show()

# Regresor liniowy
linreg = LinearRegression()

X_train, X_test, y_train, y_test = train_test_split(lstat_perc, boston_nieruchomosci['target'], test_size = 0.5)

linreg.fit(X_train, y_train)

# Predykcja ceny
y_pred = linreg.predict(X_test)

# Domyślna metryka
print('Domyślna metryka: ', linreg.score(X_test, y_test))

# Wskaźnik (metryka) r^2
print('Wskaźnik metryka r^2: ', r2_score(y_test, y_pred))

# Współczynniki regresji
print('Współczynniki regresji:\n', linreg.coef_)

# Wykres regresji
plt.scatter(X_test, y_test, color='black')
plt.plot(X_test, y_pred, color='blue', linewidth=2)
plt.show()

# Użyj walidacji krzyżowej.
cv_score_r2 = cross_val_score(linreg, lstat_perc, boston_nieruchomosci.target, cv=5, scoring='r2')
print("Wynik regresji:",cv_score_r2)

cv_score_ev = cross_val_score(linreg, lstat_perc, boston_nieruchomosci.target, cv=5, scoring='explained_variance')
print("Odchyłka wyniku regresji:",cv_score_ev)

cv_score_mse = cross_val_score(linreg, lstat_perc, boston_nieruchomosci.target, cv=5, scoring='neg_mean_squared_error')
print("Średnia błędu regresji:",cv_score_mse)
