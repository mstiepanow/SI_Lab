{
 "cells": [
  {
   "cell_type": "code",
   "execution_count": 11,
   "metadata": {},
   "outputs": [
    {
     "name": "stdout",
     "output_type": "stream",
     "text": [
      "Kod waluty1: (AAA)USD\n",
      "Kod waluty2: (AAA)EUR\n",
      "Data początku: (rrrr-mm-dd)2019-09-01\n",
      "Data końca: (rrrr-mm-dd)2019-09-30\n"
     ]
    },
    {
     "data": {
      "text/plain": [
       "Text(0.5, 1.0, 'Zestawienie USD i EUR = 0.9234824974913721')"
      ]
     },
     "execution_count": 11,
     "metadata": {},
     "output_type": "execute_result"
    },
    {
     "data": {
      "image/png": "[encoded data removed]",
      "text/plain": [
       "<Figure size 432x288 with 1 Axes>"
      ]
     },
     "metadata": {
      "needs_background": "light"
     },
     "output_type": "display_data"
    }
   ],
   "source": [
    "import pandas as pd\n",
    "import requests\n",
    "import numpy as np\n",
    "import matplotlib.pyplot as plt\n",
    "\n",
    "# Wprowadzanie danych wejściowych\n",
    "waluta1 = input(\"Kod waluty1: (AAA)\")\n",
    "waluta2 = input(\"Kod waluty2: (AAA)\")\n",
    "data_od = input(\"Data początku: (rrrr-mm-dd)\")\n",
    "data_do = input(\"Data końca: (rrrr-mm-dd)\")\n",
    "\n",
    "# Funkcja wczytująca waluty z pliku .json\n",
    "def fetch_currency(currency,beg,end):\n",
    "    url = 'http://api.nbp.pl/api/exchangerates/rates/A/' + currency + \"/\" + data_od + \"/\" + data_do + \"/\"\n",
    "    currency_req = requests.get(url)\n",
    "    currency_data = currency_req.json()\n",
    "    return currency_data['rates']\n",
    "\n",
    "# Funkcja wczytująca waluty\n",
    "rate1 = fetch_currency(waluta1,data_od,data_do)\n",
    "rate2 = fetch_currency(waluta2,data_od,data_do)\n",
    "\n",
    "waluta1_rates = pd.DataFrame.from_dict(rate1).head(15)\n",
    "waluta1_rates.head()\n",
    "\n",
    "# Tworzenie obiektów DataFrame i skrócenie ich do 15 wpisów\n",
    "rate_dataframe1 = pd.DataFrame.from_dict(rate1).head(15)\n",
    "rate_dataframe2 = pd.DataFrame.from_dict(rate2).head(15)\n",
    "\n",
    "waluta2_rates = pd.DataFrame.from_dict(rate2).head(15)\n",
    "waluta2_rates.head()\n",
    "\n",
    "# Ustawienie indeksów na datę\n",
    "plot_data1 = waluta1_rates.set_index(['effectiveDate'])['mid']\n",
    "plot_data2 = waluta2_rates.set_index(['effectiveDate'])['mid']\n",
    "plot_data1 = rate_dataframe1.set_index(['effectiveDate'])['mid']\n",
    "plot_data2 = rate_dataframe2.set_index(['effectiveDate'])['mid']\n",
    "\n",
    "# Funkcja licząca korelację dwóch kursów (punkt 4)\n",
    "correlation = np.corrcoef (plot_data1, plot_data2)[0][1]\n",
    "\n",
    "# Rysowanie wykresu z dwiema podanymi wcześniej walutami\n",
    "plt.plot(plot_data1, 'g--', plot_data2,'b--')\n",
    "plt.ylim(ymin=0)\n",
    "plt.title('Zestawienie {} i {} = {}'.format(waluta1, waluta2, correlation))\n"
   ]
  },
  {
   "cell_type": "code",
   "execution_count": null,
   "metadata": {},
   "outputs": [],
   "source": []
  }
 ],
 "metadata": {
  "celltoolbar": "Raw Cell Format",
  "kernelspec": {
   "display_name": "Python 3",
   "language": "python",
   "name": "python3"
  },
  "language_info": {
   "codemirror_mode": {
    "name": "ipython",
    "version": 3
   },
   "file_extension": ".py",
   "mimetype": "text/x-python",
   "name": "python",
   "nbconvert_exporter": "python",
   "pygments_lexer": "ipython3",
   "version": "3.7.3"
  }
 },
 "nbformat": 4,
 "nbformat_minor": 2
}
